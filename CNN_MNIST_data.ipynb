{
  "nbformat": 4,
  "nbformat_minor": 0,
  "metadata": {
    "colab": {
      "name": "CNN-MNIST data.ipynb",
      "provenance": [],
      "collapsed_sections": []
    },
    "kernelspec": {
      "name": "python3",
      "display_name": "Python 3"
    },
    "language_info": {
      "name": "python"
    },
    "widgets": {
      "application/vnd.jupyter.widget-state+json": {
        "b2420b75e44a47cd87c083422119a0a1": {
          "model_module": "@jupyter-widgets/controls",
          "model_name": "HBoxModel",
          "model_module_version": "1.5.0",
          "state": {
            "_view_name": "HBoxView",
            "_dom_classes": [],
            "_model_name": "HBoxModel",
            "_view_module": "@jupyter-widgets/controls",
            "_model_module_version": "1.5.0",
            "_view_count": null,
            "_view_module_version": "1.5.0",
            "box_style": "",
            "layout": "IPY_MODEL_67062fb455f6454aaca54e246a797d51",
            "_model_module": "@jupyter-widgets/controls",
            "children": [
              "IPY_MODEL_68263ad1fc7145b3bd14b052b14e8f1a",
              "IPY_MODEL_c1d4ee284b304a349cb70bb2bba235ae",
              "IPY_MODEL_84b80abae1cb4a76a5a4120c75513695"
            ]
          }
        },
        "67062fb455f6454aaca54e246a797d51": {
          "model_module": "@jupyter-widgets/base",
          "model_name": "LayoutModel",
          "model_module_version": "1.2.0",
          "state": {
            "_view_name": "LayoutView",
            "grid_template_rows": null,
            "right": null,
            "justify_content": null,
            "_view_module": "@jupyter-widgets/base",
            "overflow": null,
            "_model_module_version": "1.2.0",
            "_view_count": null,
            "flex_flow": null,
            "width": null,
            "min_width": null,
            "border": null,
            "align_items": null,
            "bottom": null,
            "_model_module": "@jupyter-widgets/base",
            "top": null,
            "grid_column": null,
            "overflow_y": null,
            "overflow_x": null,
            "grid_auto_flow": null,
            "grid_area": null,
            "grid_template_columns": null,
            "flex": null,
            "_model_name": "LayoutModel",
            "justify_items": null,
            "grid_row": null,
            "max_height": null,
            "align_content": null,
            "visibility": null,
            "align_self": null,
            "height": null,
            "min_height": null,
            "padding": null,
            "grid_auto_rows": null,
            "grid_gap": null,
            "max_width": null,
            "order": null,
            "_view_module_version": "1.2.0",
            "grid_template_areas": null,
            "object_position": null,
            "object_fit": null,
            "grid_auto_columns": null,
            "margin": null,
            "display": null,
            "left": null
          }
        },
        "68263ad1fc7145b3bd14b052b14e8f1a": {
          "model_module": "@jupyter-widgets/controls",
          "model_name": "HTMLModel",
          "model_module_version": "1.5.0",
          "state": {
            "_view_name": "HTMLView",
            "style": "IPY_MODEL_63aa8370a2194c6cbe0d95313a651a59",
            "_dom_classes": [],
            "description": "",
            "_model_name": "HTMLModel",
            "placeholder": "​",
            "_view_module": "@jupyter-widgets/controls",
            "_model_module_version": "1.5.0",
            "value": "Dl Completed...: 100%",
            "_view_count": null,
            "_view_module_version": "1.5.0",
            "description_tooltip": null,
            "_model_module": "@jupyter-widgets/controls",
            "layout": "IPY_MODEL_271d443238c440cebcdb4ee371117742"
          }
        },
        "c1d4ee284b304a349cb70bb2bba235ae": {
          "model_module": "@jupyter-widgets/controls",
          "model_name": "FloatProgressModel",
          "model_module_version": "1.5.0",
          "state": {
            "_view_name": "ProgressView",
            "style": "IPY_MODEL_7f050fbc9b7244548396eac1771ab410",
            "_dom_classes": [],
            "description": "",
            "_model_name": "FloatProgressModel",
            "bar_style": "success",
            "max": 4,
            "_view_module": "@jupyter-widgets/controls",
            "_model_module_version": "1.5.0",
            "value": 4,
            "_view_count": null,
            "_view_module_version": "1.5.0",
            "orientation": "horizontal",
            "min": 0,
            "description_tooltip": null,
            "_model_module": "@jupyter-widgets/controls",
            "layout": "IPY_MODEL_89f0ebf8045f4cea9ea302612080c76a"
          }
        },
        "84b80abae1cb4a76a5a4120c75513695": {
          "model_module": "@jupyter-widgets/controls",
          "model_name": "HTMLModel",
          "model_module_version": "1.5.0",
          "state": {
            "_view_name": "HTMLView",
            "style": "IPY_MODEL_0fc1e4d44937442bafbddbbf44005eee",
            "_dom_classes": [],
            "description": "",
            "_model_name": "HTMLModel",
            "placeholder": "​",
            "_view_module": "@jupyter-widgets/controls",
            "_model_module_version": "1.5.0",
            "value": " 4/4 [00:00&lt;00:00,  3.80 file/s]",
            "_view_count": null,
            "_view_module_version": "1.5.0",
            "description_tooltip": null,
            "_model_module": "@jupyter-widgets/controls",
            "layout": "IPY_MODEL_3d239f14cd75453db42010bf7e2704cf"
          }
        },
        "63aa8370a2194c6cbe0d95313a651a59": {
          "model_module": "@jupyter-widgets/controls",
          "model_name": "DescriptionStyleModel",
          "model_module_version": "1.5.0",
          "state": {
            "_view_name": "StyleView",
            "_model_name": "DescriptionStyleModel",
            "description_width": "",
            "_view_module": "@jupyter-widgets/base",
            "_model_module_version": "1.5.0",
            "_view_count": null,
            "_view_module_version": "1.2.0",
            "_model_module": "@jupyter-widgets/controls"
          }
        },
        "271d443238c440cebcdb4ee371117742": {
          "model_module": "@jupyter-widgets/base",
          "model_name": "LayoutModel",
          "model_module_version": "1.2.0",
          "state": {
            "_view_name": "LayoutView",
            "grid_template_rows": null,
            "right": null,
            "justify_content": null,
            "_view_module": "@jupyter-widgets/base",
            "overflow": null,
            "_model_module_version": "1.2.0",
            "_view_count": null,
            "flex_flow": null,
            "width": null,
            "min_width": null,
            "border": null,
            "align_items": null,
            "bottom": null,
            "_model_module": "@jupyter-widgets/base",
            "top": null,
            "grid_column": null,
            "overflow_y": null,
            "overflow_x": null,
            "grid_auto_flow": null,
            "grid_area": null,
            "grid_template_columns": null,
            "flex": null,
            "_model_name": "LayoutModel",
            "justify_items": null,
            "grid_row": null,
            "max_height": null,
            "align_content": null,
            "visibility": null,
            "align_self": null,
            "height": null,
            "min_height": null,
            "padding": null,
            "grid_auto_rows": null,
            "grid_gap": null,
            "max_width": null,
            "order": null,
            "_view_module_version": "1.2.0",
            "grid_template_areas": null,
            "object_position": null,
            "object_fit": null,
            "grid_auto_columns": null,
            "margin": null,
            "display": null,
            "left": null
          }
        },
        "7f050fbc9b7244548396eac1771ab410": {
          "model_module": "@jupyter-widgets/controls",
          "model_name": "ProgressStyleModel",
          "model_module_version": "1.5.0",
          "state": {
            "_view_name": "StyleView",
            "_model_name": "ProgressStyleModel",
            "description_width": "",
            "_view_module": "@jupyter-widgets/base",
            "_model_module_version": "1.5.0",
            "_view_count": null,
            "_view_module_version": "1.2.0",
            "bar_color": null,
            "_model_module": "@jupyter-widgets/controls"
          }
        },
        "89f0ebf8045f4cea9ea302612080c76a": {
          "model_module": "@jupyter-widgets/base",
          "model_name": "LayoutModel",
          "model_module_version": "1.2.0",
          "state": {
            "_view_name": "LayoutView",
            "grid_template_rows": null,
            "right": null,
            "justify_content": null,
            "_view_module": "@jupyter-widgets/base",
            "overflow": null,
            "_model_module_version": "1.2.0",
            "_view_count": null,
            "flex_flow": null,
            "width": null,
            "min_width": null,
            "border": null,
            "align_items": null,
            "bottom": null,
            "_model_module": "@jupyter-widgets/base",
            "top": null,
            "grid_column": null,
            "overflow_y": null,
            "overflow_x": null,
            "grid_auto_flow": null,
            "grid_area": null,
            "grid_template_columns": null,
            "flex": null,
            "_model_name": "LayoutModel",
            "justify_items": null,
            "grid_row": null,
            "max_height": null,
            "align_content": null,
            "visibility": null,
            "align_self": null,
            "height": null,
            "min_height": null,
            "padding": null,
            "grid_auto_rows": null,
            "grid_gap": null,
            "max_width": null,
            "order": null,
            "_view_module_version": "1.2.0",
            "grid_template_areas": null,
            "object_position": null,
            "object_fit": null,
            "grid_auto_columns": null,
            "margin": null,
            "display": null,
            "left": null
          }
        },
        "0fc1e4d44937442bafbddbbf44005eee": {
          "model_module": "@jupyter-widgets/controls",
          "model_name": "DescriptionStyleModel",
          "model_module_version": "1.5.0",
          "state": {
            "_view_name": "StyleView",
            "_model_name": "DescriptionStyleModel",
            "description_width": "",
            "_view_module": "@jupyter-widgets/base",
            "_model_module_version": "1.5.0",
            "_view_count": null,
            "_view_module_version": "1.2.0",
            "_model_module": "@jupyter-widgets/controls"
          }
        },
        "3d239f14cd75453db42010bf7e2704cf": {
          "model_module": "@jupyter-widgets/base",
          "model_name": "LayoutModel",
          "model_module_version": "1.2.0",
          "state": {
            "_view_name": "LayoutView",
            "grid_template_rows": null,
            "right": null,
            "justify_content": null,
            "_view_module": "@jupyter-widgets/base",
            "overflow": null,
            "_model_module_version": "1.2.0",
            "_view_count": null,
            "flex_flow": null,
            "width": null,
            "min_width": null,
            "border": null,
            "align_items": null,
            "bottom": null,
            "_model_module": "@jupyter-widgets/base",
            "top": null,
            "grid_column": null,
            "overflow_y": null,
            "overflow_x": null,
            "grid_auto_flow": null,
            "grid_area": null,
            "grid_template_columns": null,
            "flex": null,
            "_model_name": "LayoutModel",
            "justify_items": null,
            "grid_row": null,
            "max_height": null,
            "align_content": null,
            "visibility": null,
            "align_self": null,
            "height": null,
            "min_height": null,
            "padding": null,
            "grid_auto_rows": null,
            "grid_gap": null,
            "max_width": null,
            "order": null,
            "_view_module_version": "1.2.0",
            "grid_template_areas": null,
            "object_position": null,
            "object_fit": null,
            "grid_auto_columns": null,
            "margin": null,
            "display": null,
            "left": null
          }
        }
      }
    }
  },
  "cells": [
    {
      "cell_type": "code",
      "metadata": {
        "id": "TsqEWyebu1CU"
      },
      "source": [
        "#importing libraries\n",
        "import tensorflow as tf\n",
        "import tensorflow_datasets as tfds"
      ],
      "execution_count": 1,
      "outputs": []
    },
    {
      "cell_type": "code",
      "metadata": {
        "id": "Avp1w8qdxlc7"
      },
      "source": [
        "# Defining some constants/hyperparameters\n",
        "BUFFER_SIZE = 70_000 # for reshuffling\n",
        "BATCH_SIZE = 128\n",
        "NUM_EPOCHS = 20"
      ],
      "execution_count": 8,
      "outputs": []
    },
    {
      "cell_type": "code",
      "metadata": {
        "colab": {
          "base_uri": "https://localhost:8080/",
          "height": 205,
          "referenced_widgets": [
            "b2420b75e44a47cd87c083422119a0a1",
            "67062fb455f6454aaca54e246a797d51",
            "68263ad1fc7145b3bd14b052b14e8f1a",
            "c1d4ee284b304a349cb70bb2bba235ae",
            "84b80abae1cb4a76a5a4120c75513695",
            "63aa8370a2194c6cbe0d95313a651a59",
            "271d443238c440cebcdb4ee371117742",
            "7f050fbc9b7244548396eac1771ab410",
            "89f0ebf8045f4cea9ea302612080c76a",
            "0fc1e4d44937442bafbddbbf44005eee",
            "3d239f14cd75453db42010bf7e2704cf"
          ]
        },
        "id": "Ks_6Y2xdu2UE",
        "outputId": "90ecab34-9593-4c70-93fb-c20a068e4e41"
      },
      "source": [
        "# # Downloading the MNIST dataset\n",
        "\n",
        "# When 'with_info' is set to True, tfds.load() returns two variables: \n",
        "# - the dataset (including the train and test sets) \n",
        "# - meta info regarding the dataset itself\n",
        "\n",
        "mnist_dataset, mnist_info = tfds.load(name='mnist', with_info=True, as_supervised=True)"
      ],
      "execution_count": 2,
      "outputs": [
        {
          "output_type": "stream",
          "name": "stdout",
          "text": [
            "\u001b[1mDownloading and preparing dataset mnist/3.0.1 (download: 11.06 MiB, generated: 21.00 MiB, total: 32.06 MiB) to /root/tensorflow_datasets/mnist/3.0.1...\u001b[0m\n"
          ]
        },
        {
          "output_type": "stream",
          "name": "stderr",
          "text": [
            "WARNING:absl:Dataset mnist is hosted on GCS. It will automatically be downloaded to your\n",
            "local data directory. If you'd instead prefer to read directly from our public\n",
            "GCS bucket (recommended if you're running on GCP), you can instead pass\n",
            "`try_gcs=True` to `tfds.load` or set `data_dir=gs://tfds-data/datasets`.\n",
            "\n"
          ]
        },
        {
          "output_type": "display_data",
          "data": {
            "application/vnd.jupyter.widget-view+json": {
              "model_id": "b2420b75e44a47cd87c083422119a0a1",
              "version_minor": 0,
              "version_major": 2
            },
            "text/plain": [
              "Dl Completed...:   0%|          | 0/4 [00:00<?, ? file/s]"
            ]
          },
          "metadata": {}
        },
        {
          "output_type": "stream",
          "name": "stdout",
          "text": [
            "\n",
            "\u001b[1mDataset mnist downloaded and prepared to /root/tensorflow_datasets/mnist/3.0.1. Subsequent calls will reuse this data.\u001b[0m\n"
          ]
        }
      ]
    },
    {
      "cell_type": "code",
      "metadata": {
        "id": "pJNwswf1vNN5"
      },
      "source": [
        "# train and test dataset\n",
        "\n",
        "mnist_train, mnist_test = mnist_dataset['train'], mnist_dataset['test']"
      ],
      "execution_count": 3,
      "outputs": []
    },
    {
      "cell_type": "code",
      "metadata": {
        "id": "eXrFiFzSvl0E"
      },
      "source": [
        "# define a function to scale the image\n",
        "\n",
        "def scale(image, label):\n",
        "    image = tf.cast(image, tf.float32)\n",
        "    image /= 255.\n",
        "\n",
        "    return image, label"
      ],
      "execution_count": 4,
      "outputs": []
    },
    {
      "cell_type": "code",
      "metadata": {
        "id": "e1iUR3YhvuqU"
      },
      "source": [
        "# apply this function to train and test data\n",
        "\n",
        "train_val_data=mnist_train.map(scale)\n",
        "test_data = mnist_test.map(scale)"
      ],
      "execution_count": 5,
      "outputs": []
    },
    {
      "cell_type": "code",
      "metadata": {
        "id": "NOA84Yfywrbh"
      },
      "source": [
        "# Define size of validation set - set 10% of training data as validation data\n",
        "\n",
        "num_validation_samples = 0.1 * mnist_info.splits['train'].num_examples\n",
        "num_validation_samples = tf.cast(num_validation_samples, tf.int64)"
      ],
      "execution_count": 6,
      "outputs": []
    },
    {
      "cell_type": "code",
      "metadata": {
        "id": "mxFgoNssxZAy"
      },
      "source": [
        "# Defining the size of the test set\n",
        "num_test_samples = mnist_info.splits['test'].num_examples\n",
        "num_test_samples = tf.cast(num_test_samples, tf.int64)"
      ],
      "execution_count": 7,
      "outputs": []
    },
    {
      "cell_type": "code",
      "metadata": {
        "id": "fSpEpb2TxdGG"
      },
      "source": [
        "# Reshuffling the dataset\n",
        "train_and_validation_data = train_val_data.shuffle(BUFFER_SIZE)"
      ],
      "execution_count": 10,
      "outputs": []
    },
    {
      "cell_type": "code",
      "metadata": {
        "id": "73zYP5JvxnE9"
      },
      "source": [
        "# Splitting the dataset into training + validation\n",
        "\n",
        "train_data = train_val_data.skip(num_validation_samples)\n",
        "validation_data = train_val_data.take(num_validation_samples)"
      ],
      "execution_count": 11,
      "outputs": []
    },
    {
      "cell_type": "code",
      "metadata": {
        "id": "FpCXEVACx1Mr"
      },
      "source": [
        "# Batching the data\n",
        "# NOTE: For proper functioning of the model, we need to create one big batch for the validation and test sets\n",
        "train_data = train_data.batch(BATCH_SIZE)\n",
        "validation_data = validation_data.batch(num_validation_samples) \n",
        "test_data = test_data.batch(num_test_samples)"
      ],
      "execution_count": 12,
      "outputs": []
    },
    {
      "cell_type": "markdown",
      "metadata": {
        "id": "nlaS-wdH1BwT"
      },
      "source": [
        "# Model building"
      ]
    },
    {
      "cell_type": "code",
      "metadata": {
        "id": "lxaWzfp_yHq9"
      },
      "source": [
        "# Model building\n",
        "\n",
        "\n",
        "model = tf.keras.Sequential([\n",
        "    tf.keras.layers.Conv2D(50, 5, activation='relu', input_shape=(28, 28, 1)),\n",
        "    tf.keras.layers.MaxPooling2D(pool_size=(2,2)), \n",
        "    tf.keras.layers.Conv2D(50, 3, activation='relu'),\n",
        "    tf.keras.layers.MaxPooling2D(pool_size=(2,2)), \n",
        "    tf.keras.layers.Flatten(),\n",
        "    tf.keras.layers.Dense(10) # You can apply softmax activation here, but we use below step\n",
        "])"
      ],
      "execution_count": 13,
      "outputs": []
    },
    {
      "cell_type": "code",
      "metadata": {
        "colab": {
          "base_uri": "https://localhost:8080/"
        },
        "id": "fnQhl36CyXA0",
        "outputId": "ca55b65b-a551-443d-e74a-ed6a7ba0fdb5"
      },
      "source": [
        "model.summary(line_length = 75)"
      ],
      "execution_count": 14,
      "outputs": [
        {
          "output_type": "stream",
          "name": "stdout",
          "text": [
            "Model: \"sequential\"\n",
            "___________________________________________________________________________\n",
            "Layer (type)                     Output Shape                  Param #     \n",
            "===========================================================================\n",
            "conv2d (Conv2D)                  (None, 24, 24, 50)            1300        \n",
            "___________________________________________________________________________\n",
            "max_pooling2d (MaxPooling2D)     (None, 12, 12, 50)            0           \n",
            "___________________________________________________________________________\n",
            "conv2d_1 (Conv2D)                (None, 10, 10, 50)            22550       \n",
            "___________________________________________________________________________\n",
            "max_pooling2d_1 (MaxPooling2D)   (None, 5, 5, 50)              0           \n",
            "___________________________________________________________________________\n",
            "flatten (Flatten)                (None, 1250)                  0           \n",
            "___________________________________________________________________________\n",
            "dense (Dense)                    (None, 10)                    12510       \n",
            "===========================================================================\n",
            "Total params: 36,360\n",
            "Trainable params: 36,360\n",
            "Non-trainable params: 0\n",
            "___________________________________________________________________________\n"
          ]
        }
      ]
    },
    {
      "cell_type": "code",
      "metadata": {
        "id": "Jrbeap-3yZVz"
      },
      "source": [
        "#loss function\n",
        "\n",
        "# In general, our model needs to output probabilities of each class, which can be achieved with a softmax activation in the last dense layer\n",
        "\n",
        "# However, when using the softmax activation, the loss can rarely be unstable\n",
        "# SparseCategoricalCrossentropy is used to incorporate softmax\n",
        "\n",
        "# Thus, instead of incorporating the softmax into the model itself,\n",
        "# we use a loss calculation that automatically corrects for the missing softmax\n",
        "\n",
        "# That is the reason for 'from_logits=True'\n",
        "\n",
        "\n",
        "loss_fn = tf.keras.losses.SparseCategoricalCrossentropy(from_logits=True)"
      ],
      "execution_count": 15,
      "outputs": []
    },
    {
      "cell_type": "code",
      "metadata": {
        "id": "jWx7-Nbayi1p"
      },
      "source": [
        "# Compiling the model with Adam optimizer and the cathegorical crossentropy as a loss function\n",
        "\n",
        "model.compile(optimizer='adam', loss=loss_fn, metrics=['accuracy'])"
      ],
      "execution_count": 16,
      "outputs": []
    },
    {
      "cell_type": "code",
      "metadata": {
        "id": "EMUJhbkHyoOP"
      },
      "source": [
        "# Defining early stopping to prevent overfitting\n",
        "\n",
        "early_stopping = tf.keras.callbacks.EarlyStopping(\n",
        "    monitor = 'val_loss',\n",
        "    mode = 'auto',    \n",
        "    min_delta = 0,\n",
        "    patience = 2,\n",
        "    verbose = 0, \n",
        "    restore_best_weights = True\n",
        ")"
      ],
      "execution_count": 17,
      "outputs": []
    },
    {
      "cell_type": "markdown",
      "metadata": {
        "id": "60E--6D_0-8R"
      },
      "source": [
        "# Train the model"
      ]
    },
    {
      "cell_type": "code",
      "metadata": {
        "colab": {
          "base_uri": "https://localhost:8080/"
        },
        "id": "9DTLRpxpyrpT",
        "outputId": "c96e03f1-9445-4778-e83d-71f53d69d064"
      },
      "source": [
        "# Train the model\n",
        "\n",
        "model.fit(\n",
        "    train_data, \n",
        "    epochs = NUM_EPOCHS, \n",
        "    callbacks = [early_stopping], \n",
        "    validation_data = validation_data,\n",
        "    verbose = 2\n",
        ")"
      ],
      "execution_count": 18,
      "outputs": [
        {
          "output_type": "stream",
          "name": "stdout",
          "text": [
            "Epoch 1/20\n",
            "422/422 - 59s - loss: 0.2661 - accuracy: 0.9230 - val_loss: 0.0878 - val_accuracy: 0.9750\n",
            "Epoch 2/20\n",
            "422/422 - 59s - loss: 0.0700 - accuracy: 0.9785 - val_loss: 0.0672 - val_accuracy: 0.9797\n",
            "Epoch 3/20\n",
            "422/422 - 59s - loss: 0.0498 - accuracy: 0.9847 - val_loss: 0.0634 - val_accuracy: 0.9815\n",
            "Epoch 4/20\n",
            "422/422 - 58s - loss: 0.0402 - accuracy: 0.9876 - val_loss: 0.0569 - val_accuracy: 0.9838\n",
            "Epoch 5/20\n",
            "422/422 - 58s - loss: 0.0336 - accuracy: 0.9896 - val_loss: 0.0494 - val_accuracy: 0.9858\n",
            "Epoch 6/20\n",
            "422/422 - 58s - loss: 0.0283 - accuracy: 0.9916 - val_loss: 0.0470 - val_accuracy: 0.9870\n",
            "Epoch 7/20\n",
            "422/422 - 58s - loss: 0.0242 - accuracy: 0.9929 - val_loss: 0.0465 - val_accuracy: 0.9867\n",
            "Epoch 8/20\n",
            "422/422 - 58s - loss: 0.0207 - accuracy: 0.9940 - val_loss: 0.0470 - val_accuracy: 0.9870\n",
            "Epoch 9/20\n",
            "422/422 - 58s - loss: 0.0180 - accuracy: 0.9949 - val_loss: 0.0480 - val_accuracy: 0.9868\n"
          ]
        },
        {
          "output_type": "execute_result",
          "data": {
            "text/plain": [
              "<keras.callbacks.History at 0x7f9990dba6d0>"
            ]
          },
          "metadata": {},
          "execution_count": 18
        }
      ]
    },
    {
      "cell_type": "code",
      "metadata": {
        "colab": {
          "base_uri": "https://localhost:8080/"
        },
        "id": "FLNQ92omywdn",
        "outputId": "e1ffeb06-0460-42e9-930c-a93faa083899"
      },
      "source": [
        "# Test the model\n",
        "\n",
        "test_loss, test_accuracy = model.evaluate(test_data)"
      ],
      "execution_count": 19,
      "outputs": [
        {
          "output_type": "stream",
          "name": "stdout",
          "text": [
            "1/1 [==============================] - 3s 3s/step - loss: 0.0347 - accuracy: 0.9893\n"
          ]
        }
      ]
    },
    {
      "cell_type": "code",
      "metadata": {
        "colab": {
          "base_uri": "https://localhost:8080/"
        },
        "id": "nX9GK5nZy2j7",
        "outputId": "815e788c-a9ef-4b2f-8da8-f0e98cae6c78"
      },
      "source": [
        "print('Test loss: {0:.4f}. Test accuracy: {1:.2f}%'.format(test_loss, test_accuracy*100.))\n",
        "\n"
      ],
      "execution_count": 20,
      "outputs": [
        {
          "output_type": "stream",
          "name": "stdout",
          "text": [
            "Test loss: 0.0347. Test accuracy: 98.93%\n"
          ]
        }
      ]
    },
    {
      "cell_type": "markdown",
      "metadata": {
        "id": "3AdgGqrk06zZ"
      },
      "source": [
        "# Plot the test labels and images"
      ]
    },
    {
      "cell_type": "code",
      "metadata": {
        "id": "4buxTjaYzScI"
      },
      "source": [
        "\n",
        "\n",
        "# Split the test_data into 2 arrays, containing the images and the corresponding labels\n",
        "for image,label in test_data.take(1):\n",
        "  testimages=image.numpy()\n",
        "  testlabels=label.numpy()"
      ],
      "execution_count": 23,
      "outputs": []
    },
    {
      "cell_type": "code",
      "metadata": {
        "id": "pIFX9n64zu4E"
      },
      "source": [
        "\n",
        "# Reshape the images into 28x28 form, suitable for matplotlib (original dimensions: 28x28x1)\n",
        "import numpy as np\n",
        "images_plot = np.reshape(testimages, (10000,28,28))"
      ],
      "execution_count": 25,
      "outputs": []
    },
    {
      "cell_type": "code",
      "metadata": {
        "colab": {
          "base_uri": "https://localhost:8080/",
          "height": 157
        },
        "id": "lvyhEGuqz0fD",
        "outputId": "12426f82-3654-448b-a828-1eab1078f2c2"
      },
      "source": [
        "# The image to be displayed and tested . change the value of i to test with different numbers\n",
        "i = 1   \n",
        "\n",
        "\n",
        "# Plot the image\n",
        "\n",
        "import matplotlib.pyplot as plt\n",
        "import numpy as np\n",
        "\n",
        "plt.figure(figsize=(2, 2))\n",
        "plt.axis('off')\n",
        "plt.imshow(images_plot[i-1], cmap=\"gray\", aspect='auto')\n",
        "plt.show()\n",
        "\n",
        "# Print the correct label for the image\n",
        "print(\"Label: {}\".format(testlabels[i-1]))"
      ],
      "execution_count": 34,
      "outputs": [
        {
          "output_type": "display_data",
          "data": {
            "image/png": "[encoded data removed]",
            "text/plain": [
              "<Figure size 144x144 with 1 Axes>"
            ]
          },
          "metadata": {
            "needs_background": "light"
          }
        },
        {
          "output_type": "stream",
          "name": "stdout",
          "text": [
            "Label: 2\n"
          ]
        }
      ]
    },
    {
      "cell_type": "markdown",
      "metadata": {
        "id": "q95UMv2c1Fv4"
      },
      "source": [
        "# Model Prediction"
      ]
    },
    {
      "cell_type": "code",
      "metadata": {
        "id": "wmTKrcDH1Ic-"
      },
      "source": [
        "predictions = model.predict(testimages[i-1:i])"
      ],
      "execution_count": 35,
      "outputs": []
    },
    {
      "cell_type": "code",
      "metadata": {
        "id": "gE5kroyQ1rjR"
      },
      "source": [
        "# Convert those predictions into probabilities (recall that we incorporated the softmaxt activation into the loss function)\n",
        "probabilities = tf.nn.softmax(predictions).numpy()\n",
        "# Convert the probabilities into percentages\n",
        "probabilities = probabilities*100"
      ],
      "execution_count": 36,
      "outputs": []
    },
    {
      "cell_type": "code",
      "metadata": {
        "colab": {
          "base_uri": "https://localhost:8080/",
          "height": 337
        },
        "id": "DlHQAWFD3Iw-",
        "outputId": "26c5cee4-91bd-4c28-feff-0816be32fd22"
      },
      "source": [
        "\n",
        "\n",
        "# Create a bar chart to plot the probabilities for each class\n",
        "plt.figure(figsize=(12,5))\n",
        "plt.bar(x=[1,2,3,4,5,6,7,8,9,10], height=probabilities[0], tick_label=[\"0\",\"1\",\"2\",\"3\",\"4\",\"5\",\"6\",\"7\",\"8\",\"9\"])"
      ],
      "execution_count": 37,
      "outputs": [
        {
          "output_type": "execute_result",
          "data": {
            "text/plain": [
              "<BarContainer object of 10 artists>"
            ]
          },
          "metadata": {},
          "execution_count": 37
        },
        {
          "output_type": "display_data",
          "data": {
            "image/png": "[encoded data removed]",
            "text/plain": [
              "<Figure size 864x360 with 1 Axes>"
            ]
          },
          "metadata": {
            "needs_background": "light"
          }
        }
      ]
    },
    {
      "cell_type": "code",
      "metadata": {
        "id": "Wfj-3ae23i8T"
      },
      "source": [
        ""
      ],
      "execution_count": null,
      "outputs": []
    },
    {
      "cell_type": "markdown",
      "metadata": {
        "id": "guV4ZjqU6Tzu"
      },
      "source": [
        ""
      ]
    },
    {
      "cell_type": "code",
      "metadata": {
        "id": "iOrMXG766Vns"
      },
      "source": [
        ""
      ],
      "execution_count": null,
      "outputs": []
    }
  ]
}